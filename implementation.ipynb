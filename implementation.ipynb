{
 "cells": [
  {
   "cell_type": "code",
   "execution_count": 1,
   "id": "6f3f040a-6edb-4fe9-9dad-b61a5dfa0e4b",
   "metadata": {},
   "outputs": [],
   "source": [
    "#Kaggle dataset\n",
    "#https://www.kaggle.com/datasets/omkargurav/face-mask-dataset?resource=download"
   ]
  },
  {
   "cell_type": "code",
   "execution_count": 2,
   "id": "888b95cf-a7d6-446c-b3df-d36006661cc7",
   "metadata": {},
   "outputs": [],
   "source": [
    "#Import libraries\n",
    "import numpy as np\n",
    "import pandas as pd\n",
    "import tensorflow as tf\n",
    "from tensorflow import keras\n",
    "import warnings\n",
    "warnings.filterwarnings('ignore')"
   ]
  },
  {
   "cell_type": "code",
   "execution_count": 3,
   "id": "57b71bb6-ad19-4003-bb24-6cfbf158f8b5",
   "metadata": {},
   "outputs": [],
   "source": [
    "#Defining path\n",
    "train_dir = 'data/'#2 classes - with_mast, without_mask"
   ]
  },
  {
   "cell_type": "code",
   "execution_count": 4,
   "id": "3aa4b7b1-5e44-493b-accb-ef522a34534f",
   "metadata": {},
   "outputs": [
    {
     "name": "stdout",
     "output_type": "stream",
     "text": [
      "Found 6043 images belonging to 2 classes.\n",
      "Found 1510 images belonging to 2 classes.\n"
     ]
    }
   ],
   "source": [
    "from tensorflow.keras.preprocessing.image import ImageDataGenerator\n",
    "\n",
    "train_gen = ImageDataGenerator(\n",
    "    rescale=1./255,\n",
    "    validation_split=0.2,\n",
    "    rotation_range=20,\n",
    "    zoom_range=0.2,\n",
    "    horizontal_flip=True\n",
    ")\n",
    "\n",
    "#Traing data object\n",
    "train_data = train_gen.flow_from_directory(\n",
    "    train_dir,\n",
    "    target_size=(150, 150),\n",
    "    batch_size=32,\n",
    "    class_mode='binary',\n",
    "    subset='training'\n",
    ")\n",
    "\n",
    "#Validation data object\n",
    "val_data = train_gen.flow_from_directory(\n",
    "    train_dir,\n",
    "    target_size=(150, 150),\n",
    "    batch_size=32,\n",
    "    class_mode='binary',\n",
    "    subset='validation'\n",
    ")"
   ]
  },
  {
   "cell_type": "code",
   "execution_count": 5,
   "id": "76253140-ac0c-41e2-a390-62f26612e765",
   "metadata": {},
   "outputs": [
    {
     "name": "stdout",
     "output_type": "stream",
     "text": [
      "Epoch 1/10\n",
      "\u001b[1m189/189\u001b[0m \u001b[32m━━━━━━━━━━━━━━━━━━━━\u001b[0m\u001b[37m\u001b[0m \u001b[1m144s\u001b[0m 751ms/step - accuracy: 0.8324 - loss: 0.3810 - val_accuracy: 0.8742 - val_loss: 0.3144\n",
      "Epoch 2/10\n",
      "\u001b[1m189/189\u001b[0m \u001b[32m━━━━━━━━━━━━━━━━━━━━\u001b[0m\u001b[37m\u001b[0m \u001b[1m104s\u001b[0m 549ms/step - accuracy: 0.8860 - loss: 0.2875 - val_accuracy: 0.9093 - val_loss: 0.2292\n",
      "Epoch 3/10\n",
      "\u001b[1m189/189\u001b[0m \u001b[32m━━━━━━━━━━━━━━━━━━━━\u001b[0m\u001b[37m\u001b[0m \u001b[1m105s\u001b[0m 553ms/step - accuracy: 0.9012 - loss: 0.2476 - val_accuracy: 0.9258 - val_loss: 0.2124\n",
      "Epoch 4/10\n",
      "\u001b[1m189/189\u001b[0m \u001b[32m━━━━━━━━━━━━━━━━━━━━\u001b[0m\u001b[37m\u001b[0m \u001b[1m106s\u001b[0m 562ms/step - accuracy: 0.9164 - loss: 0.2122 - val_accuracy: 0.9265 - val_loss: 0.1735\n",
      "Epoch 5/10\n",
      "\u001b[1m189/189\u001b[0m \u001b[32m━━━━━━━━━━━━━━━━━━━━\u001b[0m\u001b[37m\u001b[0m \u001b[1m107s\u001b[0m 565ms/step - accuracy: 0.9317 - loss: 0.1890 - val_accuracy: 0.9272 - val_loss: 0.1961\n",
      "Epoch 6/10\n",
      "\u001b[1m189/189\u001b[0m \u001b[32m━━━━━━━━━━━━━━━━━━━━\u001b[0m\u001b[37m\u001b[0m \u001b[1m105s\u001b[0m 554ms/step - accuracy: 0.9336 - loss: 0.1723 - val_accuracy: 0.9536 - val_loss: 0.1487\n",
      "Epoch 7/10\n",
      "\u001b[1m189/189\u001b[0m \u001b[32m━━━━━━━━━━━━━━━━━━━━\u001b[0m\u001b[37m\u001b[0m \u001b[1m104s\u001b[0m 549ms/step - accuracy: 0.9361 - loss: 0.1668 - val_accuracy: 0.9073 - val_loss: 0.2421\n",
      "Epoch 8/10\n",
      "\u001b[1m189/189\u001b[0m \u001b[32m━━━━━━━━━━━━━━━━━━━━\u001b[0m\u001b[37m\u001b[0m \u001b[1m104s\u001b[0m 550ms/step - accuracy: 0.9444 - loss: 0.1564 - val_accuracy: 0.9536 - val_loss: 0.1391\n",
      "Epoch 9/10\n",
      "\u001b[1m189/189\u001b[0m \u001b[32m━━━━━━━━━━━━━━━━━━━━\u001b[0m\u001b[37m\u001b[0m \u001b[1m104s\u001b[0m 551ms/step - accuracy: 0.9475 - loss: 0.1460 - val_accuracy: 0.9510 - val_loss: 0.1607\n",
      "Epoch 10/10\n",
      "\u001b[1m189/189\u001b[0m \u001b[32m━━━━━━━━━━━━━━━━━━━━\u001b[0m\u001b[37m\u001b[0m \u001b[1m105s\u001b[0m 556ms/step - accuracy: 0.9484 - loss: 0.1391 - val_accuracy: 0.9530 - val_loss: 0.1255\n"
     ]
    }
   ],
   "source": [
    "#Build model\n",
    "from tensorflow.keras.models import Sequential\n",
    "from tensorflow.keras.layers import Conv2D, MaxPooling2D, Flatten, Dense, Dropout\n",
    "\n",
    "model = Sequential([\n",
    "    Conv2D(32, (3, 3), activation='relu', input_shape=(150, 150, 3)),\n",
    "    MaxPooling2D(2, 2),\n",
    "\n",
    "    Conv2D(64, (3, 3), activation='relu'),\n",
    "    MaxPooling2D(2, 2),\n",
    "\n",
    "    Conv2D(128, (3, 3), activation='relu'),\n",
    "    MaxPooling2D(2, 2),\n",
    "\n",
    "    Flatten(),\n",
    "    Dense(128, activation='relu'),\n",
    "    Dropout(0.5),\n",
    "    Dense(1, activation='sigmoid')  # binary classification\n",
    "])\n",
    "\n",
    "#Model compile\n",
    "model.compile(optimizer='adam', loss='binary_crossentropy',metrics=['accuracy'])\n",
    "#Training\n",
    "history = model.fit(train_data, epochs = 10, validation_data = val_data)"
   ]
  },
  {
   "cell_type": "code",
   "execution_count": 8,
   "id": "4f5196fc-3995-460a-b6c2-af85e76e2d29",
   "metadata": {},
   "outputs": [
    {
     "name": "stdout",
     "output_type": "stream",
     "text": [
      "\u001b[1m1/1\u001b[0m \u001b[32m━━━━━━━━━━━━━━━━━━━━\u001b[0m\u001b[37m\u001b[0m \u001b[1m0s\u001b[0m 51ms/step\n",
      "[[1.613071e-06]]\n",
      "Prediction: With Mask ✅\n"
     ]
    }
   ],
   "source": [
    "from tensorflow.keras.preprocessing import image\n",
    "img_path = 'sample1.jpg'\n",
    "img = image.load_img(img_path, target_size=(150, 150))\n",
    "img_array = image.img_to_array(img) / 255.0\n",
    "img_array = np.expand_dims(img_array, axis=0)\n",
    "prediction = model.predict(img_array)\n",
    "if prediction[0][0] > 0.5:\n",
    "    print(\"Prediction: Without Mask 😷\")\n",
    "else:\n",
    "    print(\"Prediction: With Mask ✅\")"
   ]
  },
  {
   "cell_type": "code",
   "execution_count": 9,
   "id": "b6bbb721-9285-469e-b505-7c38c02a5ead",
   "metadata": {},
   "outputs": [],
   "source": [
    "model.save(\"project.keras\")"
   ]
  },
  {
   "cell_type": "code",
   "execution_count": null,
   "id": "5fe1a7f2-4b3b-4b49-bd57-9399bad58f8c",
   "metadata": {},
   "outputs": [],
   "source": []
  }
 ],
 "metadata": {
  "kernelspec": {
   "display_name": "Python 3.10b (TensorFlow)",
   "language": "python",
   "name": "tf310b"
  },
  "language_info": {
   "codemirror_mode": {
    "name": "ipython",
    "version": 3
   },
   "file_extension": ".py",
   "mimetype": "text/x-python",
   "name": "python",
   "nbconvert_exporter": "python",
   "pygments_lexer": "ipython3",
   "version": "3.10.18"
  }
 },
 "nbformat": 4,
 "nbformat_minor": 5
}
